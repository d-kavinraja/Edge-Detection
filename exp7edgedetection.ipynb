{
 "cells": [
  {
   "cell_type": "code",
   "execution_count": 1,
   "metadata": {},
   "outputs": [],
   "source": [
    "# Import the necessary packages\n",
    "# Reg no : 212222240047\n",
    "# Name : Kavinraja D\n",
    "import cv2\n",
    "import numpy as np\n",
    "import matplotlib.pyplot as plt"
   ]
  },
  {
   "cell_type": "code",
   "execution_count": null,
   "metadata": {},
   "outputs": [],
   "source": [
    "# load the image\n",
    "# convert to gray scale\n",
    "# Reg no : 212222240047\n",
    "# Name : Kavinraja D\n",
    "image1=cv2.imread ('car.jpg') \n",
    "gray = cv2.cvtColor(image1,cv2.COLOR_BGR2GRAY)\n",
    "plt.title('GRAY IMAGE')\n",
    "plt.imshow(gray,cmap = 'gray')"
   ]
  },
  {
   "cell_type": "code",
   "execution_count": null,
   "metadata": {},
   "outputs": [],
   "source": [
    "# remove noise\n",
    "# Reg no : 212222240047\n",
    "# Name : Kavinraja D\n",
    "img = cv2.GaussianBlur(gray,(3,3),0)"
   ]
  },
  {
   "cell_type": "code",
   "execution_count": null,
   "metadata": {},
   "outputs": [],
   "source": [
    "# Sobel edge detector\n",
    "# convolve with proper kernels\n",
    "# Reg no : 212222240047\n",
    "# Name : Kavinraja D\n",
    "img = cv2.GaussianBlur(gray,(3,3),0)\n",
    "sobelx = cv2.Sobel(gray,cv2.CV_64F,1,0,ksize=5)\n",
    "sobely = cv2.Sobel(gray,cv2.CV_64F,0,1,ksize=5)\n",
    "sobelxy =cv2.Sobel(gray,cv2.CV_64F,1,1,ksize=5)"
   ]
  },
  {
   "cell_type": "code",
   "execution_count": null,
   "metadata": {},
   "outputs": [],
   "source": [
    "#Plot the Sobel edge detector input and output\n",
    "# Reg no : 212222240047\n",
    "# Name : Kavinraja D\n",
    "plt.figure(1)\n",
    "plt.subplot(2,2,1)\n",
    "plt.imshow(gray,cmap = 'gray')\n",
    "plt.title('Original'), plt.xticks([]), plt.yticks([])\n",
    "\n",
    "#sobelx\n",
    "plt.subplot(2,2,2)\n",
    "plt.imshow(sobelx,cmap='gray')\n",
    "plt.title('sobelx')\n",
    "plt.xticks([]), plt.yticks([])\n",
    "\n",
    "\n",
    "#sobely\n",
    "plt.subplot(2,2,3)\n",
    "plt.imshow(sobely,cmap='gray')\n",
    "plt.title('sobely')\n",
    "plt.xticks([]), plt.yticks([])\n",
    "\n",
    "\n",
    "#sobelxy\n",
    "plt.subplot(2,2,4)\n",
    "plt.imshow(sobelxy,cmap='gray')\n",
    "plt.title('sobelxy')\n",
    "plt.xticks([]), plt.yticks([])\n",
    "plt.show()\n"
   ]
  },
  {
   "cell_type": "code",
   "execution_count": null,
   "metadata": {},
   "outputs": [],
   "source": [
    "# Laplacian operator\n",
    "# Reg no : 212222240047\n",
    "# Name : Kavinraja D\n",
    "laplacian = cv2.Laplacian(gray,cv2.CV_64F)\n",
    "plt.imshow(laplacian,cmap='gray')\n",
    "plt.title('laplacian')\n",
    "plt.show()\n"
   ]
  },
  {
   "cell_type": "code",
   "execution_count": null,
   "metadata": {},
   "outputs": [],
   "source": [
    "# Canny Edge detector\n",
    "# Reg no : 212222240047\n",
    "# Name : Kavinraja D\n",
    "canny_edges = cv2.Canny(gray, 110, 140)\n",
    "plt.imshow(canny_edges,cmap='gray')\n",
    "plt.title('canny_edges')\n",
    "plt.show()"
   ]
  }
 ],
 "metadata": {
  "kernelspec": {
   "display_name": "Python 3",
   "language": "python",
   "name": "python3"
  },
  "language_info": {
   "codemirror_mode": {
    "name": "ipython",
    "version": 3
   },
   "file_extension": ".py",
   "mimetype": "text/x-python",
   "name": "python",
   "nbconvert_exporter": "python",
   "pygments_lexer": "ipython3",
   "version": "3.8.5"
  }
 },
 "nbformat": 4,
 "nbformat_minor": 4
}
